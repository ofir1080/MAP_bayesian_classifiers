{
 "cells": [
  {
   "cell_type": "markdown",
   "metadata": {},
   "source": [
    "# MAP Classifiers\n",
    "\n",
    "## Introduction\n",
    "\n",
    "In this notebook I am going to implement 2 type of Maximum Aposterior Classifiers:\n",
    "* Naive Bayes\n",
    "* Full Bayes"
   ]
  },
  {
   "cell_type": "markdown",
   "metadata": {},
   "source": [
    "## Recap\n",
    "\n",
    "For given $C$ classes, and a given instance $x$ (with $n$ features), our motivation is to build a model to predict which class $x$ belongs to. Based on training data, we can take $argmax_{C_i}P(x | C_i)$\n",
    "\n",
    "Taking maximum likelyhood will allow us predict the probability of $x$, given it's classified $C_i$. But we want to predict to probabily of being classified $C_i$, given the instance $x$.<br>\n",
    "Define the posterior probabily:\n",
    "$P(C_i | x)$\n",
    "\n",
    "### Bayes' theorem\n",
    "\n",
    "Bayes' theorem (alternatively Bayes' law or Bayes' rule) describes the probability of an event, based on prior knowledge of conditions that might be related to the event (Wikipedia).\n",
    "\n",
    "The Bayes equation:\n",
    "$$P(A | x) = \\frac{P(x | A)P(A)}{P(x)}$$\n",
    "\n",
    "Where:\n",
    "* $P(x)$ is the prior probability\n",
    "* $P(x | A)$ is the likelyhood\n",
    "* $P(A | x)$ is the posterior probability\n",
    "\n",
    "So, We wish to find:\n",
    "$$argmax_{C_i}\\frac{P(x | C_i)P(C_i)}{P(x)} \\Longrightarrow argmax_{C_i}P(x | C_i)P(C_i)$$\n",
    "\n",
    "Note that if $P(C_1) = P(C_2) = ... = P(C_n)$ ($P(C_i)$ uniformly distributed) then maximum likelyhood shall be applied (ML classifier).<br>\n",
    "Otherwise, we will calculate the postretior probability using Bayes."
   ]
  },
  {
   "cell_type": "code",
   "execution_count": null,
   "metadata": {},
   "outputs": [],
   "source": [
    "# importing libs\n",
    "import pandas as pd\n",
    "import numpy as np\n",
    "import matplotlib.pyplot as plt\n",
    "%matplotlib inline"
   ]
  },
  {
   "cell_type": "markdown",
   "metadata": {},
   "source": [
    "We will work with following data:"
   ]
  },
  {
   "cell_type": "code",
   "execution_count": 209,
   "metadata": {},
   "outputs": [
    {
     "data": {
      "text/html": [
       "<div>\n",
       "<style scoped>\n",
       "    .dataframe tbody tr th:only-of-type {\n",
       "        vertical-align: middle;\n",
       "    }\n",
       "\n",
       "    .dataframe tbody tr th {\n",
       "        vertical-align: top;\n",
       "    }\n",
       "\n",
       "    .dataframe thead th {\n",
       "        text-align: right;\n",
       "    }\n",
       "</style>\n",
       "<table border=\"1\" class=\"dataframe\">\n",
       "  <thead>\n",
       "    <tr style=\"text-align: right;\">\n",
       "      <th></th>\n",
       "      <th>x</th>\n",
       "      <th>y</th>\n",
       "      <th>label</th>\n",
       "    </tr>\n",
       "  </thead>\n",
       "  <tbody>\n",
       "    <tr>\n",
       "      <th>count</th>\n",
       "      <td>600.000000</td>\n",
       "      <td>600.000000</td>\n",
       "      <td>600.000000</td>\n",
       "    </tr>\n",
       "    <tr>\n",
       "      <th>mean</th>\n",
       "      <td>25.298157</td>\n",
       "      <td>25.429497</td>\n",
       "      <td>0.500000</td>\n",
       "    </tr>\n",
       "    <tr>\n",
       "      <th>std</th>\n",
       "      <td>4.973121</td>\n",
       "      <td>5.907285</td>\n",
       "      <td>0.500417</td>\n",
       "    </tr>\n",
       "    <tr>\n",
       "      <th>min</th>\n",
       "      <td>9.706791</td>\n",
       "      <td>6.491183</td>\n",
       "      <td>0.000000</td>\n",
       "    </tr>\n",
       "    <tr>\n",
       "      <th>25%</th>\n",
       "      <td>22.137139</td>\n",
       "      <td>21.458097</td>\n",
       "      <td>0.000000</td>\n",
       "    </tr>\n",
       "    <tr>\n",
       "      <th>50%</th>\n",
       "      <td>25.474354</td>\n",
       "      <td>25.585356</td>\n",
       "      <td>0.500000</td>\n",
       "    </tr>\n",
       "    <tr>\n",
       "      <th>75%</th>\n",
       "      <td>28.993773</td>\n",
       "      <td>29.662791</td>\n",
       "      <td>1.000000</td>\n",
       "    </tr>\n",
       "    <tr>\n",
       "      <th>max</th>\n",
       "      <td>40.783340</td>\n",
       "      <td>44.227261</td>\n",
       "      <td>1.000000</td>\n",
       "    </tr>\n",
       "  </tbody>\n",
       "</table>\n",
       "</div>"
      ],
      "text/plain": [
       "                x           y       label\n",
       "count  600.000000  600.000000  600.000000\n",
       "mean    25.298157   25.429497    0.500000\n",
       "std      4.973121    5.907285    0.500417\n",
       "min      9.706791    6.491183    0.000000\n",
       "25%     22.137139   21.458097    0.000000\n",
       "50%     25.474354   25.585356    0.500000\n",
       "75%     28.993773   29.662791    1.000000\n",
       "max     40.783340   44.227261    1.000000"
      ]
     },
     "execution_count": 209,
     "metadata": {},
     "output_type": "execute_result"
    }
   ],
   "source": [
    "df = pd.read_csv('./data.csv')\n",
    "df.describe()"
   ]
  },
  {
   "cell_type": "code",
   "execution_count": 214,
   "metadata": {},
   "outputs": [
    {
     "data": {
      "text/plain": [
       "<matplotlib.collections.PathCollection at 0x125c2dd30>"
      ]
     },
     "execution_count": 214,
     "metadata": {},
     "output_type": "execute_result"
    },
    {
     "data": {
      "image/png": "[encoded data removed]",
      "text/plain": [
       "<Figure size 432x288 with 1 Axes>"
      ]
     },
     "metadata": {
      "needs_background": "light"
     },
     "output_type": "display_data"
    }
   ],
   "source": [
    "dataset = df.values\n",
    "plt.scatter(dataset[dataset[:,2] == 1][:,0], dataset[dataset[:,2] == 1][:,1])\n",
    "plt.scatter(dataset[dataset[:,2] == 0][:,0], dataset[dataset[:,2] == 0][:,1])"
   ]
  },
  {
   "cell_type": "markdown",
   "metadata": {},
   "source": [
    "## Preprocessing Data\n",
    "**Let's implement:**"
   ]
  }
 ],
 "metadata": {
  "kernelspec": {
   "display_name": "Python 3",
   "language": "python",
   "name": "python3"
  },
  "language_info": {
   "codemirror_mode": {
    "name": "ipython",
    "version": 3
   },
   "file_extension": ".py",
   "mimetype": "text/x-python",
   "name": "python",
   "nbconvert_exporter": "python",
   "pygments_lexer": "ipython3",
   "version": "3.7.3"
  }
 },
 "nbformat": 4,
 "nbformat_minor": 2
}
